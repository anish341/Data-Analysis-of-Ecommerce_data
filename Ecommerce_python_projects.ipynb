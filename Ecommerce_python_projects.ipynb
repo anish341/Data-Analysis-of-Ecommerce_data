{
 "cells": [
  {
   "cell_type": "code",
   "execution_count": 1,
   "id": "6ea3f3a3-794d-4eee-9881-bec5d76d4a51",
   "metadata": {},
   "outputs": [],
   "source": [
    "import pandas as pd\n",
    "import numpy as np\n",
    "import matplotlib.pyplot as plt\n",
    "import seaborn as sns\n",
    "import mysql.connector\n",
    "\n",
    "db =mysql.connector.connect(host =\"localhost\",\n",
    "                            username =\"root\",\n",
    "                            password =\"124567\",\n",
    "                            database =\"ecommerce\")\n",
    "cur =db.cursor()"
   ]
  },
  {
   "cell_type": "markdown",
   "id": "9e910ece-71fe-4a66-b4c6-c4a79405fd8b",
   "metadata": {},
   "source": [
    "<!-- List all unique cities where customers are located. -->"
   ]
  },
  {
   "cell_type": "markdown",
   "id": "f4145b9a-a09b-4ee1-81db-8cc88d138f07",
   "metadata": {},
   "source": [
    "# List all unique cities where customers are located."
   ]
  },
  {
   "cell_type": "code",
   "execution_count": 2,
   "id": "5669e52d-111e-4e5d-962f-e4b2dab599a1",
   "metadata": {},
   "outputs": [
    {
     "data": {
      "text/html": [
       "<div>\n",
       "<style scoped>\n",
       "    .dataframe tbody tr th:only-of-type {\n",
       "        vertical-align: middle;\n",
       "    }\n",
       "\n",
       "    .dataframe tbody tr th {\n",
       "        vertical-align: top;\n",
       "    }\n",
       "\n",
       "    .dataframe thead th {\n",
       "        text-align: right;\n",
       "    }\n",
       "</style>\n",
       "<table border=\"1\" class=\"dataframe\">\n",
       "  <thead>\n",
       "    <tr style=\"text-align: right;\">\n",
       "      <th></th>\n",
       "      <th>customer_city</th>\n",
       "    </tr>\n",
       "  </thead>\n",
       "  <tbody>\n",
       "    <tr>\n",
       "      <th>0</th>\n",
       "      <td>franca</td>\n",
       "    </tr>\n",
       "    <tr>\n",
       "      <th>1</th>\n",
       "      <td>sao bernardo do campo</td>\n",
       "    </tr>\n",
       "    <tr>\n",
       "      <th>2</th>\n",
       "      <td>sao paulo</td>\n",
       "    </tr>\n",
       "    <tr>\n",
       "      <th>3</th>\n",
       "      <td>mogi das cruzes</td>\n",
       "    </tr>\n",
       "    <tr>\n",
       "      <th>4</th>\n",
       "      <td>campinas</td>\n",
       "    </tr>\n",
       "    <tr>\n",
       "      <th>...</th>\n",
       "      <td>...</td>\n",
       "    </tr>\n",
       "    <tr>\n",
       "      <th>4114</th>\n",
       "      <td>siriji</td>\n",
       "    </tr>\n",
       "    <tr>\n",
       "      <th>4115</th>\n",
       "      <td>natividade da serra</td>\n",
       "    </tr>\n",
       "    <tr>\n",
       "      <th>4116</th>\n",
       "      <td>monte bonito</td>\n",
       "    </tr>\n",
       "    <tr>\n",
       "      <th>4117</th>\n",
       "      <td>sao rafael</td>\n",
       "    </tr>\n",
       "    <tr>\n",
       "      <th>4118</th>\n",
       "      <td>eugenio de castro</td>\n",
       "    </tr>\n",
       "  </tbody>\n",
       "</table>\n",
       "<p>4119 rows × 1 columns</p>\n",
       "</div>"
      ],
      "text/plain": [
       "              customer_city\n",
       "0                    franca\n",
       "1     sao bernardo do campo\n",
       "2                 sao paulo\n",
       "3           mogi das cruzes\n",
       "4                  campinas\n",
       "...                     ...\n",
       "4114                 siriji\n",
       "4115    natividade da serra\n",
       "4116           monte bonito\n",
       "4117             sao rafael\n",
       "4118      eugenio de castro\n",
       "\n",
       "[4119 rows x 1 columns]"
      ]
     },
     "execution_count": 2,
     "metadata": {},
     "output_type": "execute_result"
    }
   ],
   "source": [
    "query =\"\"\" select distinct(customer_city) as customer_city from customers\"\"\"\n",
    "\n",
    "cur.execute(query)\n",
    "data =cur.fetchall()\n",
    "\n",
    "df =pd.DataFrame(data ,columns=[\"customer_city\"])\n",
    "df"
   ]
  },
  {
   "cell_type": "markdown",
   "id": "8fae37f4-06ec-4af6-868a-c551c923fffb",
   "metadata": {},
   "source": [
    " # Count  the number of orders placed in 2017."
   ]
  },
  {
   "cell_type": "code",
   "execution_count": 3,
   "id": "71da5be8-ab05-444b-adcb-7f51d5fe3515",
   "metadata": {},
   "outputs": [
    {
     "data": {
      "text/plain": [
       "(45101, 'total orders placed in 2017 are')"
      ]
     },
     "execution_count": 3,
     "metadata": {},
     "output_type": "execute_result"
    }
   ],
   "source": [
    "query =\"\"\" select count(distinct order_id) from orders where year (order_purchase_timestamp) =2017\"\"\"\n",
    "\n",
    "cur.execute(query)\n",
    "data =cur.fetchall()\n",
    "data[0][0], \"total orders placed in 2017 are\""
   ]
  },
  {
   "cell_type": "markdown",
   "id": "ff368ccc-61c5-46e5-a951-691445da2cbb",
   "metadata": {},
   "source": [
    "# Find the total sales per category."
   ]
  },
  {
   "cell_type": "code",
   "execution_count": 4,
   "id": "0c466e24-26f0-40bd-8d71-6391f9e3b2f9",
   "metadata": {},
   "outputs": [
    {
     "data": {
      "text/html": [
       "<div>\n",
       "<style scoped>\n",
       "    .dataframe tbody tr th:only-of-type {\n",
       "        vertical-align: middle;\n",
       "    }\n",
       "\n",
       "    .dataframe tbody tr th {\n",
       "        vertical-align: top;\n",
       "    }\n",
       "\n",
       "    .dataframe thead th {\n",
       "        text-align: right;\n",
       "    }\n",
       "</style>\n",
       "<table border=\"1\" class=\"dataframe\">\n",
       "  <thead>\n",
       "    <tr style=\"text-align: right;\">\n",
       "      <th></th>\n",
       "      <th>category</th>\n",
       "      <th>Sales</th>\n",
       "    </tr>\n",
       "  </thead>\n",
       "  <tbody>\n",
       "    <tr>\n",
       "      <th>0</th>\n",
       "      <td>perfumery</td>\n",
       "      <td>5519.64</td>\n",
       "    </tr>\n",
       "    <tr>\n",
       "      <th>1</th>\n",
       "      <td>Furniture Decoration</td>\n",
       "      <td>43.12</td>\n",
       "    </tr>\n",
       "    <tr>\n",
       "      <th>2</th>\n",
       "      <td>telephony</td>\n",
       "      <td>135.93</td>\n",
       "    </tr>\n",
       "    <tr>\n",
       "      <th>3</th>\n",
       "      <td>bed table bath</td>\n",
       "      <td>362.17</td>\n",
       "    </tr>\n",
       "    <tr>\n",
       "      <th>4</th>\n",
       "      <td>automotive</td>\n",
       "      <td>207.24</td>\n",
       "    </tr>\n",
       "    <tr>\n",
       "      <th>...</th>\n",
       "      <td>...</td>\n",
       "      <td>...</td>\n",
       "    </tr>\n",
       "    <tr>\n",
       "      <th>62850</th>\n",
       "      <td>Watches present</td>\n",
       "      <td>427.98</td>\n",
       "    </tr>\n",
       "    <tr>\n",
       "      <th>62851</th>\n",
       "      <td>Fashion Bags and Accessories</td>\n",
       "      <td>26.16</td>\n",
       "    </tr>\n",
       "    <tr>\n",
       "      <th>62852</th>\n",
       "      <td>Garden tools</td>\n",
       "      <td>492.53</td>\n",
       "    </tr>\n",
       "    <tr>\n",
       "      <th>62853</th>\n",
       "      <td>party articles</td>\n",
       "      <td>269.73</td>\n",
       "    </tr>\n",
       "    <tr>\n",
       "      <th>62854</th>\n",
       "      <td>Games consoles</td>\n",
       "      <td>75.07</td>\n",
       "    </tr>\n",
       "  </tbody>\n",
       "</table>\n",
       "<p>62855 rows × 2 columns</p>\n",
       "</div>"
      ],
      "text/plain": [
       "                           category    Sales\n",
       "0                         perfumery  5519.64\n",
       "1              Furniture Decoration    43.12\n",
       "2                         telephony   135.93\n",
       "3                    bed table bath   362.17\n",
       "4                        automotive   207.24\n",
       "...                             ...      ...\n",
       "62850               Watches present   427.98\n",
       "62851  Fashion Bags and Accessories    26.16\n",
       "62852                  Garden tools   492.53\n",
       "62853                party articles   269.73\n",
       "62854                Games consoles    75.07\n",
       "\n",
       "[62855 rows x 2 columns]"
      ]
     },
     "execution_count": 4,
     "metadata": {},
     "output_type": "execute_result"
    }
   ],
   "source": [
    "query = \"\"\" select  `product category` ,round(sum(payments.payment_value),2) as sales \n",
    "FROM products JOIN order_items \n",
    "ON products.product_id = order_items.product_id\n",
    "JOIN payments ON payments.order_id = order_items.order_id\n",
    "GROUP BY  `product category`,payments.payment_value;\n",
    "\n",
    "\"\"\"\n",
    "cur.execute(query)\n",
    "\n",
    "data = cur.fetchall()\n",
    "\n",
    "df= pd.DataFrame(data, columns=[\"category\", \"Sales\"])\n",
    "df"
   ]
  },
  {
   "cell_type": "markdown",
   "id": "e1c20608-5edb-45f5-96da-036fef900876",
   "metadata": {},
   "source": [
    "# Calculate the percentage of orders that were paid in installments."
   ]
  },
  {
   "cell_type": "code",
   "execution_count": 5,
   "id": "42466f58-ff75-4fc6-9f21-062d0972bc21",
   "metadata": {},
   "outputs": [
    {
     "data": {
      "text/plain": [
       "('Calculate the percentage of orders that were paid in installments is ',\n",
       " Decimal('99.9981'))"
      ]
     },
     "execution_count": 5,
     "metadata": {},
     "output_type": "execute_result"
    }
   ],
   "source": [
    "query = \"\"\"\n",
    "SELECT (SUM(CASE WHEN payment_installments >= 1 THEN 1\n",
    "                ELSE 0 \n",
    "           END))/count(*)*100 AS installment_count\n",
    "FROM payments\n",
    "\"\"\"\n",
    "\n",
    "cur.execute(query)\n",
    "data = cur.fetchall()\n",
    "\"Calculate the percentage of orders that were paid in installments is \", data[0][0]"
   ]
  },
  {
   "cell_type": "markdown",
   "id": "64decb17-4dcf-4e69-9e00-76fb00ccc839",
   "metadata": {},
   "source": [
    "# List all unique cities where customers are located."
   ]
  },
  {
   "cell_type": "code",
   "execution_count": 6,
   "id": "358b3be6-3b5b-4883-94e4-e88c4ed1df8d",
   "metadata": {},
   "outputs": [
    {
     "data": {
      "text/html": [
       "<div>\n",
       "<style scoped>\n",
       "    .dataframe tbody tr th:only-of-type {\n",
       "        vertical-align: middle;\n",
       "    }\n",
       "\n",
       "    .dataframe tbody tr th {\n",
       "        vertical-align: top;\n",
       "    }\n",
       "\n",
       "    .dataframe thead th {\n",
       "        text-align: right;\n",
       "    }\n",
       "</style>\n",
       "<table border=\"1\" class=\"dataframe\">\n",
       "  <thead>\n",
       "    <tr style=\"text-align: right;\">\n",
       "      <th></th>\n",
       "      <th>0</th>\n",
       "    </tr>\n",
       "  </thead>\n",
       "  <tbody>\n",
       "    <tr>\n",
       "      <th>0</th>\n",
       "      <td>franca</td>\n",
       "    </tr>\n",
       "    <tr>\n",
       "      <th>1</th>\n",
       "      <td>sao bernardo do campo</td>\n",
       "    </tr>\n",
       "    <tr>\n",
       "      <th>2</th>\n",
       "      <td>sao paulo</td>\n",
       "    </tr>\n",
       "    <tr>\n",
       "      <th>3</th>\n",
       "      <td>mogi das cruzes</td>\n",
       "    </tr>\n",
       "    <tr>\n",
       "      <th>4</th>\n",
       "      <td>campinas</td>\n",
       "    </tr>\n",
       "    <tr>\n",
       "      <th>...</th>\n",
       "      <td>...</td>\n",
       "    </tr>\n",
       "    <tr>\n",
       "      <th>4114</th>\n",
       "      <td>siriji</td>\n",
       "    </tr>\n",
       "    <tr>\n",
       "      <th>4115</th>\n",
       "      <td>natividade da serra</td>\n",
       "    </tr>\n",
       "    <tr>\n",
       "      <th>4116</th>\n",
       "      <td>monte bonito</td>\n",
       "    </tr>\n",
       "    <tr>\n",
       "      <th>4117</th>\n",
       "      <td>sao rafael</td>\n",
       "    </tr>\n",
       "    <tr>\n",
       "      <th>4118</th>\n",
       "      <td>eugenio de castro</td>\n",
       "    </tr>\n",
       "  </tbody>\n",
       "</table>\n",
       "<p>4119 rows × 1 columns</p>\n",
       "</div>"
      ],
      "text/plain": [
       "                          0\n",
       "0                    franca\n",
       "1     sao bernardo do campo\n",
       "2                 sao paulo\n",
       "3           mogi das cruzes\n",
       "4                  campinas\n",
       "...                     ...\n",
       "4114                 siriji\n",
       "4115    natividade da serra\n",
       "4116           monte bonito\n",
       "4117             sao rafael\n",
       "4118      eugenio de castro\n",
       "\n",
       "[4119 rows x 1 columns]"
      ]
     },
     "execution_count": 6,
     "metadata": {},
     "output_type": "execute_result"
    }
   ],
   "source": [
    "query =\"\"\" select distinct customer_city from customers \"\"\"\n",
    "\n",
    "cur.execute(query)\n",
    "data =cur.fetchall()\n",
    "df =pd.DataFrame(data)\n",
    "df"
   ]
  },
  {
   "cell_type": "markdown",
   "id": "3ad16eb5-d766-4ce0-a9b2-810cc22da242",
   "metadata": {},
   "source": [
    "# Count the number of customers from each state."
   ]
  },
  {
   "cell_type": "code",
   "execution_count": 7,
   "id": "319147ae-e32b-489b-9757-6595f72d7de2",
   "metadata": {},
   "outputs": [
    {
     "data": {
      "image/png": "[encoded data removed]",
      "text/plain": [
       "<Figure size 700x500 with 1 Axes>"
      ]
     },
     "metadata": {},
     "output_type": "display_data"
    }
   ],
   "source": [
    "query =\"\"\" select customer_state, count(customer_id) from customers group by \n",
    "customer_state \n",
    "\"\"\"\n",
    "cur.execute(query)\n",
    "data =cur.fetchall()\n",
    "df =pd.DataFrame(data, columns=[\"state\", \"customer_count\"])\n",
    "df =df.sort_values(by=\"customer_count\", ascending=False)\n",
    "plt.figure(figsize= (7,5))\n",
    "plt.bar(df[\"state\"], df[\"customer_count\"])\n",
    "\n",
    "plt.xticks(rotation =90)\n",
    "plt.show()"
   ]
  },
  {
   "cell_type": "markdown",
   "id": "62449a46-cf13-4e36-b9af-dbbb6e50c6f9",
   "metadata": {},
   "source": [
    "# Calculate the number of orders per month in 2018."
   ]
  },
  {
   "cell_type": "code",
   "execution_count": 8,
   "id": "6b205b03-c172-4783-bb7a-04c3643a3647",
   "metadata": {},
   "outputs": [
    {
     "data": {
      "image/png": "[encoded data removed]",
      "text/plain": [
       "<Figure size 640x480 with 1 Axes>"
      ]
     },
     "metadata": {},
     "output_type": "display_data"
    }
   ],
   "source": [
    "import calendar\n",
    "\n",
    "query = \"\"\"\n",
    "SELECT MONTH(order_purchase_timestamp) AS month,\n",
    "       COUNT(order_id) AS order_count\n",
    "FROM orders\n",
    "WHERE YEAR(order_purchase_timestamp) = 2018 \n",
    "GROUP BY MONTH(order_purchase_timestamp)\n",
    "\"\"\"\n",
    "\n",
    "cur.execute(query)\n",
    "data = cur.fetchall()\n",
    "\n",
    "# Convert month number to lowercase month name\n",
    "df = pd.DataFrame(data, columns=[\"month_num\", \"order_count\"])\n",
    "df[\"months\"] = df[\"month_num\"].apply(lambda x: calendar.month_name[x].lower())\n",
    "\n",
    "o = [\"january\", \"february\", \"march\", \"april\", \"may\", \"june\",\n",
    "     \"july\", \"august\", \"september\", \"october\"]\n",
    "\n",
    "ax = sns.barplot(x=\"months\", y=\"order_count\", data=df, order=o)\n",
    "plt.xticks(rotation=45)\n",
    "ax.bar_label(ax.containers[0])\n",
    "plt.title(\"count of orders by months in 2018\")\n",
    "plt.show()\n"
   ]
  },
  {
   "cell_type": "markdown",
   "id": "881b02b3-2c73-443f-b98c-ce65bfc17bf9",
   "metadata": {},
   "source": [
    "# Find the average number of products per order, grouped by customers city."
   ]
  },
  {
   "cell_type": "code",
   "execution_count": 9,
   "id": "d66edb7e-4020-48fa-ad28-9c6c7806a1cc",
   "metadata": {},
   "outputs": [
    {
     "data": {
      "text/html": [
       "<div>\n",
       "<style scoped>\n",
       "    .dataframe tbody tr th:only-of-type {\n",
       "        vertical-align: middle;\n",
       "    }\n",
       "\n",
       "    .dataframe tbody tr th {\n",
       "        vertical-align: top;\n",
       "    }\n",
       "\n",
       "    .dataframe thead th {\n",
       "        text-align: right;\n",
       "    }\n",
       "</style>\n",
       "<table border=\"1\" class=\"dataframe\">\n",
       "  <thead>\n",
       "    <tr style=\"text-align: right;\">\n",
       "      <th></th>\n",
       "      <th>customer_city</th>\n",
       "      <th>average_products/order</th>\n",
       "    </tr>\n",
       "  </thead>\n",
       "  <tbody>\n",
       "    <tr>\n",
       "      <th>0</th>\n",
       "      <td>sao paulo</td>\n",
       "      <td>1.16</td>\n",
       "    </tr>\n",
       "    <tr>\n",
       "      <th>1</th>\n",
       "      <td>sao jose dos campos</td>\n",
       "      <td>1.14</td>\n",
       "    </tr>\n",
       "    <tr>\n",
       "      <th>2</th>\n",
       "      <td>porto alegre</td>\n",
       "      <td>1.17</td>\n",
       "    </tr>\n",
       "    <tr>\n",
       "      <th>3</th>\n",
       "      <td>indaial</td>\n",
       "      <td>1.12</td>\n",
       "    </tr>\n",
       "    <tr>\n",
       "      <th>4</th>\n",
       "      <td>treze tilias</td>\n",
       "      <td>1.27</td>\n",
       "    </tr>\n",
       "    <tr>\n",
       "      <th>...</th>\n",
       "      <td>...</td>\n",
       "      <td>...</td>\n",
       "    </tr>\n",
       "    <tr>\n",
       "      <th>4105</th>\n",
       "      <td>buriti</td>\n",
       "      <td>3.00</td>\n",
       "    </tr>\n",
       "    <tr>\n",
       "      <th>4106</th>\n",
       "      <td>morro agudo de goias</td>\n",
       "      <td>1.00</td>\n",
       "    </tr>\n",
       "    <tr>\n",
       "      <th>4107</th>\n",
       "      <td>santa filomena</td>\n",
       "      <td>1.00</td>\n",
       "    </tr>\n",
       "    <tr>\n",
       "      <th>4108</th>\n",
       "      <td>guamiranga</td>\n",
       "      <td>1.00</td>\n",
       "    </tr>\n",
       "    <tr>\n",
       "      <th>4109</th>\n",
       "      <td>padre paraiso</td>\n",
       "      <td>1.00</td>\n",
       "    </tr>\n",
       "  </tbody>\n",
       "</table>\n",
       "<p>4110 rows × 2 columns</p>\n",
       "</div>"
      ],
      "text/plain": [
       "             customer_city average_products/order\n",
       "0                sao paulo                   1.16\n",
       "1      sao jose dos campos                   1.14\n",
       "2             porto alegre                   1.17\n",
       "3                  indaial                   1.12\n",
       "4             treze tilias                   1.27\n",
       "...                    ...                    ...\n",
       "4105                buriti                   3.00\n",
       "4106  morro agudo de goias                   1.00\n",
       "4107        santa filomena                   1.00\n",
       "4108            guamiranga                   1.00\n",
       "4109         padre paraiso                   1.00\n",
       "\n",
       "[4110 rows x 2 columns]"
      ]
     },
     "execution_count": 9,
     "metadata": {},
     "output_type": "execute_result"
    }
   ],
   "source": [
    "query= \"\"\"with count_per_order as\n",
    "(SELECT \n",
    "    orders.order_id,\n",
    "    orders.customer_id,\n",
    "    COUNT(order_items.order_id) AS oc\n",
    "FROM ecommerce.orders\n",
    "JOIN order_items ON orders.order_id = order_items.order_id\n",
    "GROUP BY orders.order_id, orders.customer_id)\n",
    "\n",
    "SELECT \n",
    "    customers.customer_city, \n",
    "    round(AVG(count_per_order.oc),2) AS avg_items_per_order\n",
    "FROM ecommerce.customers \n",
    "JOIN count_per_order ON customers.customer_id = count_per_order.customer_id\n",
    "GROUP BY customers.customer_city\n",
    "\"\"\"\n",
    "\n",
    "cur.execute(query)\n",
    "data =cur.fetchall()\n",
    "df =pd.DataFrame(data ,columns=[\"customer_city\" ,\"average_products/order\"])\n",
    "df\n"
   ]
  },
  {
   "cell_type": "markdown",
   "id": "740bcffe-d2aa-488a-b31c-3cbea4b448df",
   "metadata": {},
   "source": [
    "# Calcualate the percentage of total revenue contributed by each produt category."
   ]
  },
  {
   "cell_type": "code",
   "execution_count": 10,
   "id": "0eca83f0-4441-492b-92ee-ff63f46b7509",
   "metadata": {},
   "outputs": [
    {
     "data": {
      "text/html": [
       "<div>\n",
       "<style scoped>\n",
       "    .dataframe tbody tr th:only-of-type {\n",
       "        vertical-align: middle;\n",
       "    }\n",
       "\n",
       "    .dataframe tbody tr th {\n",
       "        vertical-align: top;\n",
       "    }\n",
       "\n",
       "    .dataframe thead th {\n",
       "        text-align: right;\n",
       "    }\n",
       "</style>\n",
       "<table border=\"1\" class=\"dataframe\">\n",
       "  <thead>\n",
       "    <tr style=\"text-align: right;\">\n",
       "      <th></th>\n",
       "      <th>category</th>\n",
       "      <th>price</th>\n",
       "    </tr>\n",
       "  </thead>\n",
       "  <tbody>\n",
       "    <tr>\n",
       "      <th>0</th>\n",
       "      <td>INSURANCE AND SERVICES</td>\n",
       "      <td>0.00</td>\n",
       "    </tr>\n",
       "    <tr>\n",
       "      <th>1</th>\n",
       "      <td>FASHION CHILDREN'S CLOTHING</td>\n",
       "      <td>0.00</td>\n",
       "    </tr>\n",
       "    <tr>\n",
       "      <th>2</th>\n",
       "      <td>ARTS AND CRAFTS</td>\n",
       "      <td>0.01</td>\n",
       "    </tr>\n",
       "    <tr>\n",
       "      <th>3</th>\n",
       "      <td>FLOWERS</td>\n",
       "      <td>0.01</td>\n",
       "    </tr>\n",
       "    <tr>\n",
       "      <th>4</th>\n",
       "      <td>PC GAMER</td>\n",
       "      <td>0.01</td>\n",
       "    </tr>\n",
       "    <tr>\n",
       "      <th>...</th>\n",
       "      <td>...</td>\n",
       "      <td>...</td>\n",
       "    </tr>\n",
       "    <tr>\n",
       "      <th>68</th>\n",
       "      <td>FURNITURE DECORATION</td>\n",
       "      <td>8.93</td>\n",
       "    </tr>\n",
       "    <tr>\n",
       "      <th>69</th>\n",
       "      <td>WATCHES PRESENT</td>\n",
       "      <td>8.93</td>\n",
       "    </tr>\n",
       "    <tr>\n",
       "      <th>70</th>\n",
       "      <td>COMPUTER ACCESSORIES</td>\n",
       "      <td>9.90</td>\n",
       "    </tr>\n",
       "    <tr>\n",
       "      <th>71</th>\n",
       "      <td>HEALTH BEAUTY</td>\n",
       "      <td>10.35</td>\n",
       "    </tr>\n",
       "    <tr>\n",
       "      <th>72</th>\n",
       "      <td>BED TABLE BATH</td>\n",
       "      <td>10.70</td>\n",
       "    </tr>\n",
       "  </tbody>\n",
       "</table>\n",
       "<p>73 rows × 2 columns</p>\n",
       "</div>"
      ],
      "text/plain": [
       "                       category  price\n",
       "0        INSURANCE AND SERVICES   0.00\n",
       "1   FASHION CHILDREN'S CLOTHING   0.00\n",
       "2               ARTS AND CRAFTS   0.01\n",
       "3                       FLOWERS   0.01\n",
       "4                      PC GAMER   0.01\n",
       "..                          ...    ...\n",
       "68         FURNITURE DECORATION   8.93\n",
       "69              WATCHES PRESENT   8.93\n",
       "70         COMPUTER ACCESSORIES   9.90\n",
       "71                HEALTH BEAUTY  10.35\n",
       "72               BED TABLE BATH  10.70\n",
       "\n",
       "[73 rows x 2 columns]"
      ]
     },
     "execution_count": 10,
     "metadata": {},
     "output_type": "execute_result"
    }
   ],
   "source": [
    "query = \"\"\"SELECT \n",
    "    upper(products.`product category`) category,\n",
    "    round((SUM(payments.payment_value)/(select sum(payment_value) from payments)) *100 ,2)\n",
    " AS sales\n",
    "FROM \n",
    "    products\n",
    "JOIN \n",
    "    order_items ON products.product_id = order_items.product_id\n",
    "JOIN \n",
    "    payments ON payments.order_id = order_items.order_id\n",
    "GROUP BY \n",
    "    category order by sales\n",
    "\"\"\"\n",
    "cur.execute(query)\n",
    "data =cur.fetchall()\n",
    "df =pd.DataFrame(data ,columns=[\"category\"  ,\"price\"])\n",
    "df"
   ]
  },
  {
   "cell_type": "markdown",
   "id": "8eaa82c9-6217-4870-96fe-54ace687e7ec",
   "metadata": {},
   "source": [
    "# Identify the correlation between product price and he nuber of times a product has been purchased."
   ]
  },
  {
   "cell_type": "code",
   "execution_count": 11,
   "id": "44ce8cd8-68c4-401a-8156-09f58ace345b",
   "metadata": {},
   "outputs": [
    {
     "name": "stdout",
     "output_type": "stream",
     "text": [
      "nan the correlation is\n"
     ]
    },
    {
     "name": "stderr",
     "output_type": "stream",
     "text": [
      "C:\\Users\\intel\\anaconda3\\Lib\\site-packages\\numpy\\lib\\function_base.py:2897: RuntimeWarning: invalid value encountered in divide\n",
      "  c /= stddev[:, None]\n",
      "C:\\Users\\intel\\anaconda3\\Lib\\site-packages\\numpy\\lib\\function_base.py:2898: RuntimeWarning: invalid value encountered in divide\n",
      "  c /= stddev[None, :]\n"
     ]
    }
   ],
   "source": [
    "query = \"\"\"select products.`product category`, \n",
    "count(order_items.product_id),\n",
    "round(avg(order_items.product_id),0)\n",
    "\n",
    "from products join order_items on  \n",
    "products.product_id = order_items.product_id\n",
    "group by  products.`product category`\n",
    "\"\"\"\n",
    "\n",
    "cur.execute(query)\n",
    "data =cur.fetchall()\n",
    "df =pd.DataFrame(data ,columns=[\"category\" ,\"order_count\",\"price\"])\n",
    "arr1 =df[\"order_count\"]\n",
    "arr2 =df[\"price\"]\n",
    "a = np.corrcoef([arr1,arr2])\n",
    "print(a[0][-1] ,\"the correlation is\")"
   ]
  },
  {
   "cell_type": "markdown",
   "id": "c1861435-84ba-49ae-a54f-72e9fb3e550e",
   "metadata": {},
   "source": [
    "# Calculate the total revenue generated by each seller and rank them by revenue."
   ]
  },
  {
   "cell_type": "code",
   "execution_count": 12,
   "id": "b7644ec3-d100-4782-b7df-4f798f1fbe44",
   "metadata": {},
   "outputs": [
    {
     "data": {
      "image/png": "[encoded data removed]",
      "text/plain": [
       "<Figure size 640x480 with 1 Axes>"
      ]
     },
     "metadata": {},
     "output_type": "display_data"
    }
   ],
   "source": [
    "query = \"\"\"SELECT \n",
    "    seller_id,\n",
    "    revenue, DENSE_RANK() OVER (ORDER BY revenue DESC) AS rn\n",
    "FROM (\n",
    "    SELECT \n",
    "        oi.seller_id,\n",
    "        round(SUM(p.payment_value) ,2)AS revenue\n",
    "    FROM order_items oi JOIN payments p ON oi.order_id = p.order_id\n",
    "    GROUP BY oi.seller_id\n",
    ") AS a;\n",
    "\n",
    "\"\"\"\n",
    "cur.execute(query)\n",
    "data =cur.fetchall()\n",
    "df =pd.DataFrame(data ,columns =[\"seller_id\" ,\"revenue\", \"rank\"])\n",
    "df =df.head()\n",
    "sns.barplot(x= \"seller_id\", y =\"revenue\", data = df)\n",
    "plt.xticks(rotation =90)\n",
    "plt.show()"
   ]
  },
  {
   "cell_type": "markdown",
   "id": "2e0c20e1-b5bf-4f68-800b-f87225342a65",
   "metadata": {},
   "source": [
    "# Calculate the moving average of order values for each customer over their hestory."
   ]
  },
  {
   "cell_type": "code",
   "execution_count": 13,
   "id": "1aef7d5b-fe9b-4e75-b9e2-bada20c7c3e5",
   "metadata": {},
   "outputs": [
    {
     "data": {
      "text/html": [
       "<div>\n",
       "<style scoped>\n",
       "    .dataframe tbody tr th:only-of-type {\n",
       "        vertical-align: middle;\n",
       "    }\n",
       "\n",
       "    .dataframe tbody tr th {\n",
       "        vertical-align: top;\n",
       "    }\n",
       "\n",
       "    .dataframe thead th {\n",
       "        text-align: right;\n",
       "    }\n",
       "</style>\n",
       "<table border=\"1\" class=\"dataframe\">\n",
       "  <thead>\n",
       "    <tr style=\"text-align: right;\">\n",
       "      <th></th>\n",
       "      <th>0</th>\n",
       "      <th>1</th>\n",
       "      <th>2</th>\n",
       "      <th>3</th>\n",
       "    </tr>\n",
       "  </thead>\n",
       "  <tbody>\n",
       "    <tr>\n",
       "      <th>0</th>\n",
       "      <td>00012a2ce6f8dcda20d059ce98491703</td>\n",
       "      <td>2017-11-14 16:08:26</td>\n",
       "      <td>114.74</td>\n",
       "      <td>114.74</td>\n",
       "    </tr>\n",
       "    <tr>\n",
       "      <th>1</th>\n",
       "      <td>000161a058600d5901f007fab4c27140</td>\n",
       "      <td>2017-07-16 09:40:32</td>\n",
       "      <td>67.41</td>\n",
       "      <td>67.41</td>\n",
       "    </tr>\n",
       "    <tr>\n",
       "      <th>2</th>\n",
       "      <td>0001fd6190edaaf884bcaf3d49edf079</td>\n",
       "      <td>2017-02-28 11:06:43</td>\n",
       "      <td>195.42</td>\n",
       "      <td>195.42</td>\n",
       "    </tr>\n",
       "    <tr>\n",
       "      <th>3</th>\n",
       "      <td>0002414f95344307404f0ace7a26f1d5</td>\n",
       "      <td>2017-08-16 13:09:20</td>\n",
       "      <td>179.35</td>\n",
       "      <td>179.35</td>\n",
       "    </tr>\n",
       "    <tr>\n",
       "      <th>4</th>\n",
       "      <td>000379cdec625522490c315e70c7a9fb</td>\n",
       "      <td>2018-04-02 13:42:17</td>\n",
       "      <td>107.01</td>\n",
       "      <td>107.01</td>\n",
       "    </tr>\n",
       "    <tr>\n",
       "      <th>...</th>\n",
       "      <td>...</td>\n",
       "      <td>...</td>\n",
       "      <td>...</td>\n",
       "      <td>...</td>\n",
       "    </tr>\n",
       "    <tr>\n",
       "      <th>103881</th>\n",
       "      <td>fffecc9f79fd8c764f843e9951b11341</td>\n",
       "      <td>2018-03-29 16:59:26</td>\n",
       "      <td>9.49</td>\n",
       "      <td>27.12</td>\n",
       "    </tr>\n",
       "    <tr>\n",
       "      <th>103882</th>\n",
       "      <td>fffeda5b6d849fbd39689bb92087f431</td>\n",
       "      <td>2018-05-22 13:36:02</td>\n",
       "      <td>63.13</td>\n",
       "      <td>63.13</td>\n",
       "    </tr>\n",
       "    <tr>\n",
       "      <th>103883</th>\n",
       "      <td>ffff42319e9b2d713724ae527742af25</td>\n",
       "      <td>2018-06-13 16:57:05</td>\n",
       "      <td>214.13</td>\n",
       "      <td>214.13</td>\n",
       "    </tr>\n",
       "    <tr>\n",
       "      <th>103884</th>\n",
       "      <td>ffffa3172527f765de70084a7e53aae8</td>\n",
       "      <td>2017-09-02 11:53:32</td>\n",
       "      <td>45.50</td>\n",
       "      <td>45.50</td>\n",
       "    </tr>\n",
       "    <tr>\n",
       "      <th>103885</th>\n",
       "      <td>ffffe8b65bbe3087b653a978c870db99</td>\n",
       "      <td>2017-09-29 14:07:03</td>\n",
       "      <td>18.37</td>\n",
       "      <td>18.37</td>\n",
       "    </tr>\n",
       "  </tbody>\n",
       "</table>\n",
       "<p>103886 rows × 4 columns</p>\n",
       "</div>"
      ],
      "text/plain": [
       "                                       0                    1       2       3\n",
       "0       00012a2ce6f8dcda20d059ce98491703  2017-11-14 16:08:26  114.74  114.74\n",
       "1       000161a058600d5901f007fab4c27140  2017-07-16 09:40:32   67.41   67.41\n",
       "2       0001fd6190edaaf884bcaf3d49edf079  2017-02-28 11:06:43  195.42  195.42\n",
       "3       0002414f95344307404f0ace7a26f1d5  2017-08-16 13:09:20  179.35  179.35\n",
       "4       000379cdec625522490c315e70c7a9fb  2018-04-02 13:42:17  107.01  107.01\n",
       "...                                  ...                  ...     ...     ...\n",
       "103881  fffecc9f79fd8c764f843e9951b11341  2018-03-29 16:59:26    9.49   27.12\n",
       "103882  fffeda5b6d849fbd39689bb92087f431  2018-05-22 13:36:02   63.13   63.13\n",
       "103883  ffff42319e9b2d713724ae527742af25  2018-06-13 16:57:05  214.13  214.13\n",
       "103884  ffffa3172527f765de70084a7e53aae8  2017-09-02 11:53:32   45.50   45.50\n",
       "103885  ffffe8b65bbe3087b653a978c870db99  2017-09-29 14:07:03   18.37   18.37\n",
       "\n",
       "[103886 rows x 4 columns]"
      ]
     },
     "execution_count": 13,
     "metadata": {},
     "output_type": "execute_result"
    }
   ],
   "source": [
    "query =\"\"\" SELECT \n",
    "    customer_id,\n",
    "    order_purchase_timestamp,\n",
    "    payment_value,\n",
    "    AVG(payment_value) OVER (\n",
    "        PARTITION BY customer_id \n",
    "        ORDER BY order_purchase_timestamp ROWS BETWEEN 2 PRECEDING AND CURRENT ROW ) AS mov_avg FROM \n",
    "        ( \n",
    "        SELECT \n",
    "        o.customer_id, o.order_purchase_timestamp, p.payment_value\n",
    "    FROM \n",
    "        payments p  JOIN  orders o ON p.order_id = o.order_id\n",
    ") AS a;\n",
    "\"\"\"\n",
    "cur.execute(query)\n",
    "data =cur.fetchall()\n",
    "df =pd.DataFrame(data)\n",
    "df"
   ]
  },
  {
   "cell_type": "markdown",
   "id": "9e0d9b34-96d5-46f6-98eb-46b6dcd4cbc4",
   "metadata": {},
   "source": [
    "# Calculate the cumulative sales per month for each year "
   ]
  },
  {
   "cell_type": "code",
   "execution_count": 34,
   "id": "b6eea34a-fac4-4765-aa48-9e009550231f",
   "metadata": {},
   "outputs": [
    {
     "data": {
      "text/html": [
       "<div>\n",
       "<style scoped>\n",
       "    .dataframe tbody tr th:only-of-type {\n",
       "        vertical-align: middle;\n",
       "    }\n",
       "\n",
       "    .dataframe tbody tr th {\n",
       "        vertical-align: top;\n",
       "    }\n",
       "\n",
       "    .dataframe thead th {\n",
       "        text-align: right;\n",
       "    }\n",
       "</style>\n",
       "<table border=\"1\" class=\"dataframe\">\n",
       "  <thead>\n",
       "    <tr style=\"text-align: right;\">\n",
       "      <th></th>\n",
       "      <th>years</th>\n",
       "      <th>month</th>\n",
       "      <th>cumulative_sales</th>\n",
       "    </tr>\n",
       "  </thead>\n",
       "  <tbody>\n",
       "    <tr>\n",
       "      <th>0</th>\n",
       "      <td>2016</td>\n",
       "      <td>9</td>\n",
       "      <td>252.24</td>\n",
       "    </tr>\n",
       "    <tr>\n",
       "      <th>1</th>\n",
       "      <td>2016</td>\n",
       "      <td>10</td>\n",
       "      <td>59342.72</td>\n",
       "    </tr>\n",
       "    <tr>\n",
       "      <th>2</th>\n",
       "      <td>2016</td>\n",
       "      <td>12</td>\n",
       "      <td>59362.34</td>\n",
       "    </tr>\n",
       "    <tr>\n",
       "      <th>3</th>\n",
       "      <td>2017</td>\n",
       "      <td>1</td>\n",
       "      <td>197850.38</td>\n",
       "    </tr>\n",
       "    <tr>\n",
       "      <th>4</th>\n",
       "      <td>2017</td>\n",
       "      <td>2</td>\n",
       "      <td>489758.39</td>\n",
       "    </tr>\n",
       "  </tbody>\n",
       "</table>\n",
       "</div>"
      ],
      "text/plain": [
       "   years  month  cumulative_sales\n",
       "0   2016      9            252.24\n",
       "1   2016     10          59342.72\n",
       "2   2016     12          59362.34\n",
       "3   2017      1         197850.38\n",
       "4   2017      2         489758.39"
      ]
     },
     "execution_count": 34,
     "metadata": {},
     "output_type": "execute_result"
    }
   ],
   "source": [
    "query =  \"\"\"select years, months ,sum(payment_value) over(order by years , months)\n",
    "cumulative_sales from \n",
    "(select year (orders.order_purchase_timestamp)as years,\n",
    "month(orders.order_purchase_timestamp)as months,\n",
    "round(sum(payments.payment_value),2) as payment_value from orders join payments \n",
    "on orders.order_id =payments.order_id\n",
    "group by years, months order by years , months) as a\n",
    "\"\"\"\n",
    "\n",
    "cur.execute(query)\n",
    "data = cur.fetchall()\n",
    "df = pd.DataFrame(data, columns=[\"years\",\"month\",\"cumulative_sales\"])\n",
    "df.head()\n"
   ]
  },
  {
   "cell_type": "markdown",
   "id": "09e63f74-20e4-450c-a5fa-b2fa1821d5e6",
   "metadata": {},
   "source": [
    "# Calculate the year over-year growth rate of total sales."
   ]
  },
  {
   "cell_type": "code",
   "execution_count": 15,
   "id": "d9e64cc8-e644-4fbf-804c-36e90637019d",
   "metadata": {},
   "outputs": [
    {
     "data": {
      "text/html": [
       "<div>\n",
       "<style scoped>\n",
       "    .dataframe tbody tr th:only-of-type {\n",
       "        vertical-align: middle;\n",
       "    }\n",
       "\n",
       "    .dataframe tbody tr th {\n",
       "        vertical-align: top;\n",
       "    }\n",
       "\n",
       "    .dataframe thead th {\n",
       "        text-align: right;\n",
       "    }\n",
       "</style>\n",
       "<table border=\"1\" class=\"dataframe\">\n",
       "  <thead>\n",
       "    <tr style=\"text-align: right;\">\n",
       "      <th></th>\n",
       "      <th>years</th>\n",
       "      <th>total_sales</th>\n",
       "    </tr>\n",
       "  </thead>\n",
       "  <tbody>\n",
       "    <tr>\n",
       "      <th>0</th>\n",
       "      <td>2016</td>\n",
       "      <td>NaN</td>\n",
       "    </tr>\n",
       "    <tr>\n",
       "      <th>1</th>\n",
       "      <td>2017</td>\n",
       "      <td>12112.703761</td>\n",
       "    </tr>\n",
       "    <tr>\n",
       "      <th>2</th>\n",
       "      <td>2018</td>\n",
       "      <td>20.000924</td>\n",
       "    </tr>\n",
       "  </tbody>\n",
       "</table>\n",
       "</div>"
      ],
      "text/plain": [
       "   years   total_sales\n",
       "0   2016           NaN\n",
       "1   2017  12112.703761\n",
       "2   2018     20.000924"
      ]
     },
     "execution_count": 15,
     "metadata": {},
     "output_type": "execute_result"
    }
   ],
   "source": [
    "query = \"\"\"with a as (select year (orders.order_purchase_timestamp)as years,\n",
    "\n",
    "round(sum(payments.payment_value),2) as payment_value from orders join payments \n",
    "on orders.order_id =payments.order_id\n",
    "group by years order by years)\n",
    "\n",
    "select years,((payment_value -lag(payment_value ,1) over(order by years))/\n",
    "lag(payment_value ,1) over(order by years))*100 from a\n",
    "\"\"\"\n",
    "cur.execute(query)\n",
    "data =cur.fetchall()\n",
    "df =pd.DataFrame(data ,columns= [\"years\",\"total_sales\"])\n",
    "df"
   ]
  },
  {
   "cell_type": "markdown",
   "id": "de3b6690-cf31-44f4-94f1-1692afbba665",
   "metadata": {},
   "source": [
    "# Caculate the retention rate of customers , defined as the percentage of customers who make another purchase within 6 month of their first puchase."
   ]
  },
  {
   "cell_type": "code",
   "execution_count": 20,
   "id": "9b7145ea-a18d-4742-9cf8-3115a1eb1787",
   "metadata": {},
   "outputs": [
    {
     "data": {
      "text/plain": [
       "[(Decimal('0.00000'),)]"
      ]
     },
     "execution_count": 20,
     "metadata": {},
     "output_type": "execute_result"
    }
   ],
   "source": [
    "query = \"\"\"\n",
    "WITH first_orders AS (\n",
    "    SELECT \n",
    "        c.customer_id,\n",
    "        MIN(o.order_purchase_timestamp) AS first_order\n",
    "    FROM customers c\n",
    "    JOIN orders o ON c.customer_id = o.customer_id\n",
    "    GROUP BY c.customer_id\n",
    "),\n",
    "repeat_customers AS (\n",
    "    SELECT \n",
    "        f.customer_id\n",
    "    FROM first_orders f\n",
    "    JOIN orders o \n",
    "        ON o.customer_id = f.customer_id\n",
    "        AND o.order_purchase_timestamp > f.first_order\n",
    "        AND o.order_purchase_timestamp < DATE_ADD(f.first_order, INTERVAL 6 MONTH)\n",
    "    GROUP BY f.customer_id\n",
    ")\n",
    "SELECT \n",
    "    100.0 * COUNT(DISTINCT r.customer_id) / COUNT(DISTINCT f.customer_id) AS repeat_customer_percentage\n",
    "FROM first_orders f\n",
    "LEFT JOIN repeat_customers r ON f.customer_id = r.customer_id;\n",
    "\n",
    "\"\"\"\n",
    "cur.execute(query)\n",
    "data =cur.fetchall()\n",
    "data"
   ]
  },
  {
   "cell_type": "markdown",
   "id": "c1853078-1cea-4eeb-a515-5c03a199f65e",
   "metadata": {},
   "source": [
    "# Identify the top 3 customers who spent the most money in each years"
   ]
  },
  {
   "cell_type": "code",
   "execution_count": 25,
   "id": "40773929-45da-4bd2-9c11-bea7b30f582f",
   "metadata": {},
   "outputs": [
    {
     "data": {
      "text/plain": [
       "<function matplotlib.pyplot.show(close=None, block=None)>"
      ]
     },
     "execution_count": 25,
     "metadata": {},
     "output_type": "execute_result"
    },
    {
     "data": {
      "image/png": "[encoded data removed]",
      "text/plain": [
       "<Figure size 640x480 with 1 Axes>"
      ]
     },
     "metadata": {},
     "output_type": "display_data"
    }
   ],
   "source": [
    "query = \"\"\" SELECT \n",
    "    years, \n",
    "    customer_id,\n",
    "    payment,\n",
    "    d_rank\n",
    "FROM (\n",
    "    SELECT \n",
    "        YEAR(o.order_purchase_timestamp) AS years,\n",
    "        o.customer_id,\n",
    "        SUM(p.payment_value) AS payment,\n",
    "        DENSE_RANK() OVER (\n",
    "            PARTITION BY YEAR(o.order_purchase_timestamp) \n",
    "            ORDER BY SUM(p.payment_value) DESC\n",
    "        ) AS d_rank\n",
    "    FROM orders o\n",
    "    JOIN payments p ON p.order_id = o.order_id\n",
    "    GROUP BY \n",
    "        YEAR(o.order_purchase_timestamp), \n",
    "        o.customer_id\n",
    ") AS ranked_payments\n",
    "WHERE d_rank <= 3;\n",
    "\n",
    "\"\"\"\n",
    "cur.execute(query)\n",
    "data =cur.fetchall()\n",
    "df =pd.DataFrame(data, columns=[\"years\", \"id\" ,\"payment\",\"rank\"])\n",
    "sns.barplot(x =\"id\", y =\"payment\", data =df, hue =\"years\")\n",
    "plt.xticks(rotation =45)\n",
    "plt.show"
   ]
  }
 ],
 "metadata": {
  "kernelspec": {
   "display_name": "Python 3 (ipykernel)",
   "language": "python",
   "name": "python3"
  },
  "language_info": {
   "codemirror_mode": {
    "name": "ipython",
    "version": 3
   },
   "file_extension": ".py",
   "mimetype": "text/x-python",
   "name": "python",
   "nbconvert_exporter": "python",
   "pygments_lexer": "ipython3",
   "version": "3.12.7"
  }
 },
 "nbformat": 4,
 "nbformat_minor": 5
}
